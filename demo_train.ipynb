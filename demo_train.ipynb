{
 "cells": [
  {
   "cell_type": "code",
   "execution_count": 1,
   "metadata": {},
   "outputs": [],
   "source": [
    "%load_ext autoreload\n",
    "%autoreload 2"
   ]
  },
  {
   "cell_type": "code",
   "execution_count": 2,
   "metadata": {},
   "outputs": [],
   "source": [
    "from utils import DataLoader"
   ]
  },
  {
   "cell_type": "code",
   "execution_count": 3,
   "metadata": {},
   "outputs": [],
   "source": [
    "drivers = [\n",
    "    'GeesungOh',\n",
    "    'EuiseokJeong',\n",
    "    # 'TaesanKim',\n",
    "]\n",
    "\n",
    "states = [\n",
    "    # 'Unknown',\n",
    "    'Angry/Disgusting',\n",
    "    # 'Excited/Surprised',\n",
    "    'Sad/Fatigued',\n",
    "    # 'Happy/Neutral',\n",
    "]\n",
    "\n",
    "input_setup = {\n",
    "    'cols_CAN':['LAT_ACCEL', 'LONG_ACCEL','YAW_RATE', 'SAS_Angle',],\n",
    "    'deltaT_CAN':[-5, 0],      # sec\n",
    "    'sampling_time_CAN':0.5,    # sec\n",
    "    \n",
    "    'cols_BIO':['EDA'],\n",
    "    'deltaT_BIO':[-5, 0],      # sec\n",
    "    'sampling_time_BIO':0.5,     # sec\n",
    "    \n",
    "    'image_view':['front'],\n",
    "    'image_mode':['ir'],\n",
    "    'deltaT_image':[-4, -2],      # sec\n",
    "    'sampling_time_image':1,    # hz\n",
    "}\n",
    "\n",
    "data_loader = DataLoader(drivers=drivers,\n",
    "                         states=states,\n",
    "                         batch_size=32,\n",
    "                         shuffle=True,\n",
    "                         name='demo_training',\n",
    "                         kwargs=input_setup,\n",
    "                         )"
   ]
  },
  {
   "cell_type": "code",
   "execution_count": 4,
   "metadata": {},
   "outputs": [
    {
     "name": "stdout",
     "output_type": "stream",
     "text": [
      "(29, 9, 4)\n",
      "(29, 9, 1)\n",
      "(29, 1, 720, 1280, 3)\n",
      "(29, 2)\n"
     ]
    }
   ],
   "source": [
    "x, y = data_loader[2]\n",
    "x_can, x_bio, x_imgs = x\n",
    "\n",
    "print(x_can.shape)\n",
    "print(x_bio.shape)\n",
    "print(x_imgs['front'].shape)\n",
    "print(y.shape)"
   ]
  },
  {
   "cell_type": "markdown",
   "metadata": {},
   "source": [
    "# (Deep learning) Model build"
   ]
  },
  {
   "cell_type": "code",
   "execution_count": 4,
   "metadata": {},
   "outputs": [],
   "source": [
    "from tensorflow.keras import Model\n",
    "from tensorflow.keras.layers import Dense, Conv2D, LSTM, GlobalAveragePooling2D\n",
    "import tensorflow as tf\n",
    "\n",
    "class DemoNet(Model):\n",
    "\n",
    "    def __init__(self, num_classes=len(states)):\n",
    "        super(DemoNet, self).__init__()\n",
    "        \n",
    "        self.canNbio_l = LSTM(5, activation='tanh')\n",
    "        self.img_l = Conv2D(3, 5, 1, activation='relu')\n",
    "        self.GAP = GlobalAveragePooling2D()\n",
    "        \n",
    "        self.classifier = Dense(num_classes, activation='softmax')\n",
    "\n",
    "    def call(self, x):\n",
    "        can_x, bio_x, img_x = x\n",
    "        \n",
    "        input_canNbio = tf.concat([can_x, bio_x], axis=-1)  # (None, 9, 5)\n",
    "        out_canNbio = self.canNbio_l(input_canNbio) # (None, 5)\n",
    "        \n",
    "        input_img = tf.squeeze(img_x['front'], axis=1)  # (None, 720, 1280, 3)\n",
    "        out_conv = self.img_l(input_img)    # (None, 716, 1276, 3)\n",
    "        out_gap = self.GAP(out_conv)    # (None, 3)\n",
    "        \n",
    "        concat = tf.concat([out_canNbio, out_gap], axis=-1) # (None, 8)\n",
    "        \n",
    "        output_ = self.classifier(concat)\n",
    "        \n",
    "        return output_  # (None, 2)\n",
    "        \n",
    "        "
   ]
  },
  {
   "cell_type": "code",
   "execution_count": 5,
   "metadata": {},
   "outputs": [
    {
     "name": "stdout",
     "output_type": "stream",
     "text": [
      "Metal device set to: Apple M1 Pro\n",
      "\n",
      "systemMemory: 16.00 GB\n",
      "maxCacheSize: 5.33 GB\n",
      "\n"
     ]
    },
    {
     "ename": "NameError",
     "evalue": "name 'x' is not defined",
     "output_type": "error",
     "traceback": [
      "\u001b[0;31m---------------------------------------------------------------------------\u001b[0m",
      "\u001b[0;31mNameError\u001b[0m                                 Traceback (most recent call last)",
      "\u001b[1;32m/Users/gsethan/Desktop/DMS-loader/demo_train.ipynb Cell 7\u001b[0m in \u001b[0;36m<cell line: 2>\u001b[0;34m()\u001b[0m\n\u001b[1;32m      <a href='vscode-notebook-cell:/Users/gsethan/Desktop/DMS-loader/demo_train.ipynb#X26sZmlsZQ%3D%3D?line=0'>1</a>\u001b[0m demo_model \u001b[39m=\u001b[39m DemoNet()\n\u001b[0;32m----> <a href='vscode-notebook-cell:/Users/gsethan/Desktop/DMS-loader/demo_train.ipynb#X26sZmlsZQ%3D%3D?line=1'>2</a>\u001b[0m pred_y \u001b[39m=\u001b[39m demo_model(x)\n\u001b[1;32m      <a href='vscode-notebook-cell:/Users/gsethan/Desktop/DMS-loader/demo_train.ipynb#X26sZmlsZQ%3D%3D?line=2'>3</a>\u001b[0m \u001b[39mprint\u001b[39m(pred_y\u001b[39m.\u001b[39mshape)\n",
      "\u001b[0;31mNameError\u001b[0m: name 'x' is not defined"
     ]
    }
   ],
   "source": [
    "demo_model = DemoNet()\n",
    "pred_y = demo_model(x)\n",
    "print(pred_y.shape)"
   ]
  },
  {
   "cell_type": "code",
   "execution_count": 6,
   "metadata": {},
   "outputs": [],
   "source": [
    "demo_model.compile(optimizer=\"Adam\", loss=\"categorical_crossentropy\", metrics=[\"categorical_accuracy\"])"
   ]
  },
  {
   "cell_type": "code",
   "execution_count": 7,
   "metadata": {},
   "outputs": [
    {
     "name": "stdout",
     "output_type": "stream",
     "text": [
      "Epoch 1/5\n"
     ]
    },
    {
     "name": "stderr",
     "output_type": "stream",
     "text": [
      "2023-05-10 01:13:53.232231: W tensorflow/tsl/platform/profile_utils/cpu_utils.cc:128] Failed to get CPU frequency: 0 Hz\n"
     ]
    },
    {
     "name": "stdout",
     "output_type": "stream",
     "text": [
      "4/4 [==============================] - 33s 7s/step - loss: 1.3361 - categorical_accuracy: 0.1600\n",
      "Epoch 2/5\n",
      "4/4 [==============================] - 32s 8s/step - loss: 1.0953 - categorical_accuracy: 0.1600\n",
      "Epoch 3/5\n",
      "4/4 [==============================] - 33s 8s/step - loss: 0.9151 - categorical_accuracy: 0.1600\n",
      "Epoch 4/5\n",
      "4/4 [==============================] - 34s 8s/step - loss: 0.7529 - categorical_accuracy: 0.2900\n",
      "Epoch 5/5\n",
      "4/4 [==============================] - 33s 8s/step - loss: 0.6482 - categorical_accuracy: 0.7300\n"
     ]
    }
   ],
   "source": [
    "results = demo_model.fit(data_loader,\n",
    "                        epochs=5,)"
   ]
  },
  {
   "cell_type": "code",
   "execution_count": 9,
   "metadata": {},
   "outputs": [
    {
     "data": {
      "text/plain": [
       "[<matplotlib.lines.Line2D at 0x29a681640>]"
      ]
     },
     "execution_count": 9,
     "metadata": {},
     "output_type": "execute_result"
    },
    {
     "data": {
      "image/png": "[encoded data removed]",
      "text/plain": [
       "<Figure size 640x480 with 1 Axes>"
      ]
     },
     "metadata": {},
     "output_type": "display_data"
    }
   ],
   "source": [
    "import matplotlib.pyplot as plt\n",
    "\n",
    "plt.plot(results.history['loss'], label='Loss')\n",
    "plt.plot(results.history['categorical_accuracy'], label='Accuracy')\n"
   ]
  }
 ],
 "metadata": {
  "kernelspec": {
   "display_name": "dms-loader",
   "language": "python",
   "name": "python3"
  },
  "language_info": {
   "codemirror_mode": {
    "name": "ipython",
    "version": 3
   },
   "file_extension": ".py",
   "mimetype": "text/x-python",
   "name": "python",
   "nbconvert_exporter": "python",
   "pygments_lexer": "ipython3",
   "version": "3.8.16"
  },
  "orig_nbformat": 4
 },
 "nbformat": 4,
 "nbformat_minor": 2
}
